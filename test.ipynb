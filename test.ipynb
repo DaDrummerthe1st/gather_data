{
 "cells": [
  {
   "metadata": {
    "ExecuteTime": {
     "end_time": "2024-12-25T01:48:56.268145Z",
     "start_time": "2024-12-25T01:48:55.774761Z"
    }
   },
   "cell_type": "code",
   "source": [
    "import sqlite3\n",
    "conn = sqlite3.connect('resources/database/chuck_norris_jokes.db')\n",
    "\n",
    "conn.execute(\"\"\"\n",
    "    select * from chuck_norris_jokes\n",
    "\"\"\").fetchall()"
   ],
   "outputs": [
    {
     "ename": "OperationalError",
     "evalue": "no such table: chuck_norris_jokes",
     "output_type": "error",
     "traceback": [
      "\u001B[0;31m---------------------------------------------------------------------------\u001B[0m",
      "\u001B[0;31mOperationalError\u001B[0m                          Traceback (most recent call last)",
      "Cell \u001B[0;32mIn[1], line 4\u001B[0m\n\u001B[1;32m      1\u001B[0m \u001B[38;5;28;01mimport\u001B[39;00m \u001B[38;5;21;01msqlite3\u001B[39;00m\n\u001B[1;32m      2\u001B[0m conn \u001B[38;5;241m=\u001B[39m sqlite3\u001B[38;5;241m.\u001B[39mconnect(\u001B[38;5;124m'\u001B[39m\u001B[38;5;124mresources/database/chuck_norris_jokes.db\u001B[39m\u001B[38;5;124m'\u001B[39m)\n\u001B[0;32m----> 4\u001B[0m \u001B[43mconn\u001B[49m\u001B[38;5;241;43m.\u001B[39;49m\u001B[43mexecute\u001B[49m\u001B[43m(\u001B[49m\u001B[38;5;124;43m\"\"\"\u001B[39;49m\n\u001B[1;32m      5\u001B[0m \u001B[38;5;124;43m    select * from chuck_norris_jokes\u001B[39;49m\n\u001B[1;32m      6\u001B[0m \u001B[38;5;124;43m\"\"\"\u001B[39;49m\u001B[43m)\u001B[49m\u001B[38;5;241m.\u001B[39mfetchall()\n",
      "\u001B[0;31mOperationalError\u001B[0m: no such table: chuck_norris_jokes"
     ]
    }
   ],
   "execution_count": 1
  }
 ],
 "metadata": {
  "kernelspec": {
   "display_name": ".venv",
   "language": "python",
   "name": "python3"
  },
  "language_info": {
   "codemirror_mode": {
    "name": "ipython",
    "version": 3
   },
   "file_extension": ".py",
   "mimetype": "text/x-python",
   "name": "python",
   "nbconvert_exporter": "python",
   "pygments_lexer": "ipython3",
   "version": "3.12.3"
  }
 },
 "nbformat": 4,
 "nbformat_minor": 2
}
