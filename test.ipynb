{
 "cells": [
  {
   "cell_type": "code",
   "execution_count": 1,
   "metadata": {},
   "outputs": [
    {
     "name": "stdout",
     "output_type": "stream",
     "text": [
      "(2512, 16)\n",
      "<bound method Series.unique of 0       AC00128\n",
      "1       AC00455\n",
      "2       AC00019\n",
      "3       AC00070\n",
      "4       AC00411\n",
      "         ...   \n",
      "2507    AC00297\n",
      "2508    AC00322\n",
      "2509    AC00095\n",
      "2510    AC00118\n",
      "2511    AC00009\n",
      "Name: AccountID, Length: 2512, dtype: object>\n"
     ]
    }
   ],
   "source": [
    "# TODO if not installed - run pip install (module os)\n",
    "import pandas as pd\n",
    "\n",
    "\n",
    "data_frame = pd.read_csv('resources/bank_transactions_data_2.csv')\n",
    "\n",
    "print(data_frame.shape)\n",
    "print(data_frame[\"AccountID\"].unique)"
   ]
  }
 ],
 "metadata": {
  "kernelspec": {
   "display_name": ".venv",
   "language": "python",
   "name": "python3"
  },
  "language_info": {
   "codemirror_mode": {
    "name": "ipython",
    "version": 3
   },
   "file_extension": ".py",
   "mimetype": "text/x-python",
   "name": "python",
   "nbconvert_exporter": "python",
   "pygments_lexer": "ipython3",
   "version": "3.12.3"
  }
 },
 "nbformat": 4,
 "nbformat_minor": 2
}
